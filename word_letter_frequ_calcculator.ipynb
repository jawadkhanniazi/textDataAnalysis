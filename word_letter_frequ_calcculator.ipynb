{
 "cells": [
  {
   "cell_type": "code",
   "execution_count": 65,
   "metadata": {},
   "outputs": [
    {
     "name": "stdout",
     "output_type": "stream",
     "text": [
      "hello i am jawad , i am from se 7b, pinging from 192.168.1.1\n"
     ]
    }
   ],
   "source": [
    "sentence = input()\n",
    "sentence = sentence.lower()"
   ]
  },
  {
   "cell_type": "code",
   "execution_count": 66,
   "metadata": {},
   "outputs": [
    {
     "name": "stdout",
     "output_type": "stream",
     "text": [
      "hello i am jawad , i am from se 7b, pinging from 192.168.1.1\n"
     ]
    }
   ],
   "source": [
    "print(sentence)"
   ]
  },
  {
   "cell_type": "code",
   "execution_count": 67,
   "metadata": {},
   "outputs": [],
   "source": [
    "alphabet_disc = (\"q\",\"w\",\"e\",\"r\",\"t\",\"y\",\"u\",\"i\",\"o\",\"p\",\n",
    "                 \"a\",\"s\",\"d\",\"f\",\"g\",\"h\",\"j\",\"k\",\"l\",\n",
    "                  \"z\",\"x\",\"c\",\"v\",\"b\",\"n\",\"m\")\n"
   ]
  },
  {
   "cell_type": "code",
   "execution_count": 68,
   "metadata": {},
   "outputs": [],
   "source": [
    "unique_words = [] #empty list decleration , will store the unique words\n",
    "words = sentence.split()\n"
   ]
  },
  {
   "cell_type": "code",
   "execution_count": 69,
   "metadata": {},
   "outputs": [
    {
     "name": "stdout",
     "output_type": "stream",
     "text": [
      "w  frequency: 1\n",
      "e  frequency: 2\n",
      "r  frequency: 2\n",
      "i  frequency: 4\n",
      "o  frequency: 3\n",
      "p  frequency: 1\n",
      "a  frequency: 4\n",
      "s  frequency: 1\n",
      "d  frequency: 1\n",
      "f  frequency: 2\n",
      "g  frequency: 2\n",
      "h  frequency: 1\n",
      "j  frequency: 1\n",
      "l  frequency: 2\n",
      "b  frequency: 1\n",
      "n  frequency: 2\n",
      "m  frequency: 4\n"
     ]
    }
   ],
   "source": [
    "#block to count the frequency of letters\n",
    "for i in alphabet_disc:\n",
    "    letter_frequency = sentence.count(i)\n",
    "    if letter_frequency > 0:\n",
    "        print(i,\" frequency:\", str(letter_frequency))\n",
    "   # else:\n",
    "   #     print(\"letter is not present in sentence\")\n",
    "    "
   ]
  },
  {
   "cell_type": "code",
   "execution_count": 70,
   "metadata": {},
   "outputs": [
    {
     "name": "stdout",
     "output_type": "stream",
     "text": [
      "['hello', 'i', 'am', 'jawad', ',', 'from', 'se', '7b,', 'pinging', '192.168.1.1']\n"
     ]
    }
   ],
   "source": [
    "#block to calculate unique words\n",
    "for word in words:\n",
    "    if word not in unique_words:\n",
    "        unique_words.append(word)\n",
    "    else:\n",
    "        pass\n",
    "print(unique_words)"
   ]
  },
  {
   "cell_type": "code",
   "execution_count": 71,
   "metadata": {},
   "outputs": [
    {
     "name": "stdout",
     "output_type": "stream",
     "text": [
      "hello  frequency: 1\n",
      "i  frequency: 2\n",
      "am  frequency: 2\n",
      "jawad  frequency: 1\n",
      ",  frequency: 1\n",
      "from  frequency: 2\n",
      "se  frequency: 1\n",
      "7b,  frequency: 1\n",
      "pinging  frequency: 1\n",
      "192.168.1.1  frequency: 1\n"
     ]
    }
   ],
   "source": [
    "#block to count the frequency of words\n",
    "for i in unique_words:\n",
    "    word_frequency = words.count(i)\n",
    "    if word_frequency > 0:\n",
    "        print(i,\" frequency:\", str(word_frequency))\n",
    "   # else:\n",
    "   #     print(\"letter is not present in sentence\")"
   ]
  },
  {
   "cell_type": "code",
   "execution_count": null,
   "metadata": {},
   "outputs": [],
   "source": []
  },
  {
   "cell_type": "code",
   "execution_count": null,
   "metadata": {},
   "outputs": [],
   "source": []
  }
 ],
 "metadata": {
  "kernelspec": {
   "display_name": "Python 3",
   "language": "python",
   "name": "python3"
  },
  "language_info": {
   "codemirror_mode": {
    "name": "ipython",
    "version": 3
   },
   "file_extension": ".py",
   "mimetype": "text/x-python",
   "name": "python",
   "nbconvert_exporter": "python",
   "pygments_lexer": "ipython3",
   "version": "3.7.3"
  }
 },
 "nbformat": 4,
 "nbformat_minor": 2
}
